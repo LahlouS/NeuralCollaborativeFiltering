{
 "cells": [
  {
   "cell_type": "code",
   "execution_count": 1,
   "metadata": {},
   "outputs": [
    {
     "name": "stdout",
     "output_type": "stream",
     "text": [
      "1\n"
     ]
    }
   ],
   "source": [
    "import pandas as pd\n",
    "\n",
    "rating_df = pd.read_csv(\"ml-latest-small/ratings.csv\")\n",
    "user_id = rating_df['userId']\n",
    "print(user_id.loc[2].item())"
   ]
  },
  {
   "cell_type": "code",
   "execution_count": 2,
   "metadata": {},
   "outputs": [
    {
     "name": "stdout",
     "output_type": "stream",
     "text": [
      "64 32\n",
      "32 16\n",
      "16 8\n",
      "8 4\n",
      "4 1\n"
     ]
    }
   ],
   "source": [
    "layers = [64, 32, 16, 8, 4, 1]\n",
    "\n",
    "for i, e in zip(layers[:-1], layers[1:]):\n",
    "    print(i, e)"
   ]
  },
  {
   "cell_type": "code",
   "execution_count": 3,
   "metadata": {},
   "outputs": [
    {
     "name": "stdout",
     "output_type": "stream",
     "text": [
      "64\n",
      "32\n",
      "16\n",
      "8\n",
      "4\n",
      "32\n",
      "16\n",
      "8\n",
      "4\n",
      "1\n"
     ]
    }
   ],
   "source": [
    "\n",
    "for e in layers[:-1]:\n",
    "    print(e)\n",
    "\n",
    "for e in layers[1:]:\n",
    "    print(e)\n"
   ]
  },
  {
   "cell_type": "code",
   "execution_count": 4,
   "metadata": {},
   "outputs": [
    {
     "name": "stdout",
     "output_type": "stream",
     "text": [
      "610 vs 100836\n",
      "610 vs 100836\n"
     ]
    }
   ],
   "source": [
    "print(user_id.nunique(), 'vs', len(user_id))\n",
    "print(user_id.nunique(), 'vs', len(user_id))"
   ]
  },
  {
   "cell_type": "code",
   "execution_count": 5,
   "metadata": {},
   "outputs": [],
   "source": [
    "def _reindex(ratings):\n",
    "    \"\"\"\n",
    "    Process dataset to reindex userID and itemID\n",
    "    \"\"\"\n",
    "    user_list = list(ratings['userId'].drop_duplicates())\n",
    "    user2id = {w: i for i, w in enumerate(user_list)}\n",
    "\n",
    "    item_list = list(ratings['movieId'].drop_duplicates())\n",
    "    item2id = {w: i for i, w in enumerate(item_list)}\n",
    "\n",
    "    ratings['userId'] = ratings['userId'].apply(lambda x: user2id[x])\n",
    "    ratings['movieId'] = ratings['movieId'].apply(lambda x: item2id[x])\n",
    "    return ratings\n",
    "\n",
    "res = _reindex(rating_df)"
   ]
  },
  {
   "cell_type": "code",
   "execution_count": 6,
   "metadata": {},
   "outputs": [
    {
     "data": {
      "text/html": [
       "<div>\n",
       "<style scoped>\n",
       "    .dataframe tbody tr th:only-of-type {\n",
       "        vertical-align: middle;\n",
       "    }\n",
       "\n",
       "    .dataframe tbody tr th {\n",
       "        vertical-align: top;\n",
       "    }\n",
       "\n",
       "    .dataframe thead th {\n",
       "        text-align: right;\n",
       "    }\n",
       "</style>\n",
       "<table border=\"1\" class=\"dataframe\">\n",
       "  <thead>\n",
       "    <tr style=\"text-align: right;\">\n",
       "      <th></th>\n",
       "      <th>userId</th>\n",
       "      <th>movieId</th>\n",
       "      <th>rating</th>\n",
       "      <th>timestamp</th>\n",
       "    </tr>\n",
       "  </thead>\n",
       "  <tbody>\n",
       "    <tr>\n",
       "      <th>205</th>\n",
       "      <td>0</td>\n",
       "      <td>205</td>\n",
       "      <td>1.0</td>\n",
       "      <td>964983504</td>\n",
       "    </tr>\n",
       "    <tr>\n",
       "      <th>308</th>\n",
       "      <td>3</td>\n",
       "      <td>298</td>\n",
       "      <td>1.0</td>\n",
       "      <td>986848920</td>\n",
       "    </tr>\n",
       "    <tr>\n",
       "      <th>314</th>\n",
       "      <td>3</td>\n",
       "      <td>304</td>\n",
       "      <td>1.0</td>\n",
       "      <td>945629040</td>\n",
       "    </tr>\n",
       "    <tr>\n",
       "      <th>320</th>\n",
       "      <td>3</td>\n",
       "      <td>16</td>\n",
       "      <td>1.0</td>\n",
       "      <td>945173350</td>\n",
       "    </tr>\n",
       "    <tr>\n",
       "      <th>329</th>\n",
       "      <td>3</td>\n",
       "      <td>24</td>\n",
       "      <td>1.0</td>\n",
       "      <td>986934915</td>\n",
       "    </tr>\n",
       "    <tr>\n",
       "      <th>...</th>\n",
       "      <td>...</td>\n",
       "      <td>...</td>\n",
       "      <td>...</td>\n",
       "      <td>...</td>\n",
       "    </tr>\n",
       "    <tr>\n",
       "      <th>100060</th>\n",
       "      <td>609</td>\n",
       "      <td>9572</td>\n",
       "      <td>1.0</td>\n",
       "      <td>1479542247</td>\n",
       "    </tr>\n",
       "    <tr>\n",
       "      <th>100296</th>\n",
       "      <td>609</td>\n",
       "      <td>2988</td>\n",
       "      <td>1.0</td>\n",
       "      <td>1493845711</td>\n",
       "    </tr>\n",
       "    <tr>\n",
       "      <th>100374</th>\n",
       "      <td>609</td>\n",
       "      <td>1295</td>\n",
       "      <td>1.0</td>\n",
       "      <td>1493845505</td>\n",
       "    </tr>\n",
       "    <tr>\n",
       "      <th>100426</th>\n",
       "      <td>609</td>\n",
       "      <td>6301</td>\n",
       "      <td>1.0</td>\n",
       "      <td>1493848880</td>\n",
       "    </tr>\n",
       "    <tr>\n",
       "      <th>100734</th>\n",
       "      <td>609</td>\n",
       "      <td>4715</td>\n",
       "      <td>1.0</td>\n",
       "      <td>1493850489</td>\n",
       "    </tr>\n",
       "  </tbody>\n",
       "</table>\n",
       "<p>2811 rows × 4 columns</p>\n",
       "</div>"
      ],
      "text/plain": [
       "        userId  movieId  rating   timestamp\n",
       "205          0      205     1.0   964983504\n",
       "308          3      298     1.0   986848920\n",
       "314          3      304     1.0   945629040\n",
       "320          3       16     1.0   945173350\n",
       "329          3       24     1.0   986934915\n",
       "...        ...      ...     ...         ...\n",
       "100060     609     9572     1.0  1479542247\n",
       "100296     609     2988     1.0  1493845711\n",
       "100374     609     1295     1.0  1493845505\n",
       "100426     609     6301     1.0  1493848880\n",
       "100734     609     4715     1.0  1493850489\n",
       "\n",
       "[2811 rows x 4 columns]"
      ]
     },
     "execution_count": 6,
     "metadata": {},
     "output_type": "execute_result"
    }
   ],
   "source": [
    "res[res['rating'] == 1]"
   ]
  },
  {
   "cell_type": "code",
   "execution_count": 7,
   "metadata": {},
   "outputs": [],
   "source": [
    "data = [[1, 1], \n",
    "[1, 2], \n",
    "[2, 3], \n",
    "[2, 4], \n",
    "[3, 5],\n",
    "[4, 5]]\n",
    "\n",
    "column = ['userId', 'itemId']\n",
    "df = pd.DataFrame(data, columns=column)"
   ]
  },
  {
   "cell_type": "code",
   "execution_count": 8,
   "metadata": {},
   "outputs": [
    {
     "data": {
      "text/html": [
       "<div>\n",
       "<style scoped>\n",
       "    .dataframe tbody tr th:only-of-type {\n",
       "        vertical-align: middle;\n",
       "    }\n",
       "\n",
       "    .dataframe tbody tr th {\n",
       "        vertical-align: top;\n",
       "    }\n",
       "\n",
       "    .dataframe thead th {\n",
       "        text-align: right;\n",
       "    }\n",
       "</style>\n",
       "<table border=\"1\" class=\"dataframe\">\n",
       "  <thead>\n",
       "    <tr style=\"text-align: right;\">\n",
       "      <th></th>\n",
       "      <th>userId</th>\n",
       "      <th>itemId</th>\n",
       "    </tr>\n",
       "  </thead>\n",
       "  <tbody>\n",
       "    <tr>\n",
       "      <th>0</th>\n",
       "      <td>1</td>\n",
       "      <td>1</td>\n",
       "    </tr>\n",
       "    <tr>\n",
       "      <th>1</th>\n",
       "      <td>1</td>\n",
       "      <td>2</td>\n",
       "    </tr>\n",
       "    <tr>\n",
       "      <th>2</th>\n",
       "      <td>2</td>\n",
       "      <td>3</td>\n",
       "    </tr>\n",
       "    <tr>\n",
       "      <th>3</th>\n",
       "      <td>2</td>\n",
       "      <td>4</td>\n",
       "    </tr>\n",
       "    <tr>\n",
       "      <th>4</th>\n",
       "      <td>3</td>\n",
       "      <td>5</td>\n",
       "    </tr>\n",
       "    <tr>\n",
       "      <th>5</th>\n",
       "      <td>4</td>\n",
       "      <td>5</td>\n",
       "    </tr>\n",
       "  </tbody>\n",
       "</table>\n",
       "</div>"
      ],
      "text/plain": [
       "   userId  itemId\n",
       "0       1       1\n",
       "1       1       2\n",
       "2       2       3\n",
       "3       2       4\n",
       "4       3       5\n",
       "5       4       5"
      ]
     },
     "execution_count": 8,
     "metadata": {},
     "output_type": "execute_result"
    }
   ],
   "source": [
    "df"
   ]
  },
  {
   "cell_type": "code",
   "execution_count": 9,
   "metadata": {},
   "outputs": [
    {
     "data": {
      "text/plain": [
       "array([1, 2, 3, 4])"
      ]
     },
     "execution_count": 9,
     "metadata": {},
     "output_type": "execute_result"
    }
   ],
   "source": [
    "df['userId'].unique()\n"
   ]
  },
  {
   "cell_type": "code",
   "execution_count": 10,
   "metadata": {},
   "outputs": [
    {
     "name": "stdout",
     "output_type": "stream",
     "text": [
      "{1, 2, 3, 4, 5}\n",
      "test set algebra: {1, 3, 4}\n"
     ]
    }
   ],
   "source": [
    "import random \n",
    "\n",
    "item_pool = set(df['itemId'].unique())\n",
    "print(item_pool)\n",
    "print('test set algebra:', {1, 2, 3, 4, 5} - {2, 5})\n",
    "interact_status = (\n",
    "    df.groupby('userId')['itemId']\n",
    "    .apply(set)\n",
    "    .reset_index()\n",
    "    .rename(columns={'itemId': 'interacted_items'}))\n",
    "\n",
    "interact_status['negative_items'] = interact_status['interacted_items'].apply(lambda x: item_pool - x)\n",
    "interact_status['negative_samples'] = interact_status['negative_items'].apply(lambda x: random.sample(list(x), 1)[0])"
   ]
  },
  {
   "cell_type": "code",
   "execution_count": 11,
   "metadata": {},
   "outputs": [
    {
     "data": {
      "text/html": [
       "<div>\n",
       "<style scoped>\n",
       "    .dataframe tbody tr th:only-of-type {\n",
       "        vertical-align: middle;\n",
       "    }\n",
       "\n",
       "    .dataframe tbody tr th {\n",
       "        vertical-align: top;\n",
       "    }\n",
       "\n",
       "    .dataframe thead th {\n",
       "        text-align: right;\n",
       "    }\n",
       "</style>\n",
       "<table border=\"1\" class=\"dataframe\">\n",
       "  <thead>\n",
       "    <tr style=\"text-align: right;\">\n",
       "      <th></th>\n",
       "      <th>userId</th>\n",
       "      <th>interacted_items</th>\n",
       "      <th>negative_items</th>\n",
       "      <th>negative_samples</th>\n",
       "    </tr>\n",
       "  </thead>\n",
       "  <tbody>\n",
       "    <tr>\n",
       "      <th>0</th>\n",
       "      <td>1</td>\n",
       "      <td>{1, 2}</td>\n",
       "      <td>{3, 4, 5}</td>\n",
       "      <td>3</td>\n",
       "    </tr>\n",
       "    <tr>\n",
       "      <th>1</th>\n",
       "      <td>2</td>\n",
       "      <td>{3, 4}</td>\n",
       "      <td>{1, 2, 5}</td>\n",
       "      <td>5</td>\n",
       "    </tr>\n",
       "    <tr>\n",
       "      <th>2</th>\n",
       "      <td>3</td>\n",
       "      <td>{5}</td>\n",
       "      <td>{1, 2, 3, 4}</td>\n",
       "      <td>4</td>\n",
       "    </tr>\n",
       "    <tr>\n",
       "      <th>3</th>\n",
       "      <td>4</td>\n",
       "      <td>{5}</td>\n",
       "      <td>{1, 2, 3, 4}</td>\n",
       "      <td>1</td>\n",
       "    </tr>\n",
       "  </tbody>\n",
       "</table>\n",
       "</div>"
      ],
      "text/plain": [
       "   userId interacted_items negative_items  negative_samples\n",
       "0       1           {1, 2}      {3, 4, 5}                 3\n",
       "1       2           {3, 4}      {1, 2, 5}                 5\n",
       "2       3              {5}   {1, 2, 3, 4}                 4\n",
       "3       4              {5}   {1, 2, 3, 4}                 1"
      ]
     },
     "execution_count": 11,
     "metadata": {},
     "output_type": "execute_result"
    }
   ],
   "source": [
    "interact_status\n"
   ]
  },
  {
   "cell_type": "code",
   "execution_count": 12,
   "metadata": {},
   "outputs": [],
   "source": [
    "\n",
    "reshape = pd.DataFrame(zip(interact_status['userId'], interact_status['negative_samples'], [0] * len(interact_status['negative_samples']), [0] * len(interact_status['negative_samples'])), \n",
    "columns=['userId', 'itemId', 'ratings', 'timestamp']) "
   ]
  },
  {
   "cell_type": "code",
   "execution_count": 13,
   "metadata": {},
   "outputs": [
    {
     "data": {
      "text/html": [
       "<div>\n",
       "<style scoped>\n",
       "    .dataframe tbody tr th:only-of-type {\n",
       "        vertical-align: middle;\n",
       "    }\n",
       "\n",
       "    .dataframe tbody tr th {\n",
       "        vertical-align: top;\n",
       "    }\n",
       "\n",
       "    .dataframe thead th {\n",
       "        text-align: right;\n",
       "    }\n",
       "</style>\n",
       "<table border=\"1\" class=\"dataframe\">\n",
       "  <thead>\n",
       "    <tr style=\"text-align: right;\">\n",
       "      <th></th>\n",
       "      <th>userId</th>\n",
       "      <th>itemId</th>\n",
       "      <th>ratings</th>\n",
       "      <th>timestamp</th>\n",
       "    </tr>\n",
       "  </thead>\n",
       "  <tbody>\n",
       "    <tr>\n",
       "      <th>0</th>\n",
       "      <td>1</td>\n",
       "      <td>3</td>\n",
       "      <td>0</td>\n",
       "      <td>0</td>\n",
       "    </tr>\n",
       "    <tr>\n",
       "      <th>1</th>\n",
       "      <td>2</td>\n",
       "      <td>5</td>\n",
       "      <td>0</td>\n",
       "      <td>0</td>\n",
       "    </tr>\n",
       "    <tr>\n",
       "      <th>2</th>\n",
       "      <td>3</td>\n",
       "      <td>4</td>\n",
       "      <td>0</td>\n",
       "      <td>0</td>\n",
       "    </tr>\n",
       "    <tr>\n",
       "      <th>3</th>\n",
       "      <td>4</td>\n",
       "      <td>1</td>\n",
       "      <td>0</td>\n",
       "      <td>0</td>\n",
       "    </tr>\n",
       "  </tbody>\n",
       "</table>\n",
       "</div>"
      ],
      "text/plain": [
       "   userId  itemId  ratings  timestamp\n",
       "0       1       3        0          0\n",
       "1       2       5        0          0\n",
       "2       3       4        0          0\n",
       "3       4       1        0          0"
      ]
     },
     "execution_count": 13,
     "metadata": {},
     "output_type": "execute_result"
    }
   ],
   "source": [
    "reshape"
   ]
  },
  {
   "cell_type": "code",
   "execution_count": 14,
   "metadata": {},
   "outputs": [
    {
     "name": "stdout",
     "output_type": "stream",
     "text": [
      "[1, 3, 0, 0]\n"
     ]
    }
   ],
   "source": [
    "print(list(reshape.iloc[0]))"
   ]
  },
  {
   "cell_type": "code",
   "execution_count": 19,
   "metadata": {},
   "outputs": [
    {
     "name": "stdout",
     "output_type": "stream",
     "text": [
      "The autoreload extension is already loaded. To reload it, use:\n",
      "  %reload_ext autoreload\n",
      "-----> 0.6\n",
      "LOG: device == mps converting to float32\n",
      "DEBUG original ----> 60501 40335\n",
      "\n",
      "FOOOOOOOOOOOOO userId vs movieId 60501 40335\n",
      "FOOOOOOOOOOOOO userId vs movieId 60502 40334\n",
      "\n",
      "DEBUG user sorted ----> 60502 40334\n",
      "DEBUG item sorted ----> 60502 40334\n"
     ]
    }
   ],
   "source": [
    "%load_ext autoreload\n",
    "%autoreload 2\n",
    "from data_process.dataset import MovieDataModule as MD\n",
    "\n",
    "md = MD(split=0.6)\n",
    "\n"
   ]
  },
  {
   "cell_type": "code",
   "execution_count": 16,
   "metadata": {},
   "outputs": [
    {
     "name": "stdout",
     "output_type": "stream",
     "text": [
      "Original DataFrame:\n",
      "   userId  movieId  rating\n",
      "0       1       10     4.5\n",
      "1       2       20     3.0\n",
      "2       3       30     4.0\n",
      "3       4       40     5.0\n",
      "4       5       50     4.8\n",
      "0    False\n",
      "1     True\n",
      "2    False\n",
      "3    False\n",
      "4    False\n",
      "dtype: bool\n",
      "\n",
      "DataFrame after dropping rows with userId == 2 and movieId == 20:\n",
      "   userId  movieId  rating\n",
      "0       1       10     4.5\n",
      "2       3       30     4.0\n",
      "3       4       40     5.0\n",
      "4       5       50     4.8\n"
     ]
    }
   ],
   "source": [
    "import pandas as pd\n",
    "\n",
    "# Sample DataFrame\n",
    "df = pd.DataFrame({\n",
    "    'userId': [1, 2, 3, 4, 5],\n",
    "    'movieId': [10, 20, 30, 40, 50],\n",
    "    'rating': [4.5, 3.0, 4.0, 5.0, 4.8]\n",
    "})\n",
    "\n",
    "print(\"Original DataFrame:\")\n",
    "print(df)\n",
    "\n",
    "# Define the pair to match (e.g., userId == 2 and movieId == 20)\n",
    "user_id_to_match = 2\n",
    "movie_id_to_match = 20\n",
    "\n",
    "# Create a boolean mask where the pair matches\n",
    "mask = (df['userId'] == user_id_to_match) & (df['movieId'] == movie_id_to_match)\n",
    "\n",
    "# Drop rows where the pair matches\n",
    "df_filtered = df[~mask]\n",
    "\n",
    "print(mask)\n",
    "\n",
    "print(\"\\nDataFrame after dropping rows with userId == 2 and movieId == 20:\")\n",
    "print(df_filtered)\n"
   ]
  },
  {
   "cell_type": "code",
   "execution_count": null,
   "metadata": {},
   "outputs": [],
   "source": []
  }
 ],
 "metadata": {
  "kernelspec": {
   "display_name": "Python 3",
   "language": "python",
   "name": "python3"
  },
  "language_info": {
   "codemirror_mode": {
    "name": "ipython",
    "version": 3
   },
   "file_extension": ".py",
   "mimetype": "text/x-python",
   "name": "python",
   "nbconvert_exporter": "python",
   "pygments_lexer": "ipython3",
   "version": "3.12.2"
  }
 },
 "nbformat": 4,
 "nbformat_minor": 2
}
